{
 "cells": [
  {
   "attachments": {},
   "cell_type": "markdown",
   "metadata": {},
   "source": [
    "# NAC3 - Aprendizado de maquina\n",
    "\n",
    "| Nome dos Integrantes     | RM             | Turma   |\n",
    "| :----------------------- | :------------- | :-----: |\n",
    "| Integrante 1             | RM             |         |\n",
    "\n",
    "\n",
    "## Rubrica \n",
    "\n",
    "Os critérios de avaliação do projeto será conforme a rubrica.\n",
    "\n",
    "\n",
    "- R1: Exploração de Dados (Até 1 ponto)\n",
    "- R2: Preparação de Dados (Até 2 ponto)\n",
    "- R3: Desenvolvimento do Modelo (Até 1 ponto)\n",
    "- R4: Treinamento e Teste do Modelo (Até 2 ponto)\n",
    "- R5: Validação e Otimização do Modelo (Até 3 ponto)\n",
    "- R6: Conclusões Finais (Até 1 ponto)\n",
    "\n",
    "Nota_final = R1 + R2 + R3 + R4 + R5 + R6\n",
    "\n",
    "\n",
    "``Siga todas as instruções deste noteboook, mas não limite suas análises apenas ao conteúdo visto em aula.``\n",
    "\n",
    "\n",
    "Nas celulas **Seu Código aqui...** significa que é necessário realizar a implementação de algum código. Utilize quantos blocos julgar necessário para criar o código de resposta.\n",
    "\n",
    "Nas celulas **Responda** significa que é nessário uma resposta clara e objetiva (pode ser por texto, gráfico, imagem...) para a pergunta.\n",
    "\n",
    "**Respeite a rubrica e não responda fora de ordem ou sequência**\n",
    "\n"
   ]
  },
  {
   "attachments": {},
   "cell_type": "markdown",
   "metadata": {},
   "source": [
    "## Análise preditiva de doeça cardíaca em pacientes\n",
    "\n",
    "![](coracao.jpg)\n",
    "\n",
    "\n",
    "\n",
    "Vamos trabalhar com um CONJUNTO DE DADOS DE DOENÇA CARDÍACA afim de ``predizer a presença ou não de doenças do coração em pacientes``.    \n",
    "\n",
    "[dataset: https://ieee-dataport.org/open-access/heart-disease-dataset-comprehensive](https://ieee-dataport.org/open-access/heart-disease-dataset-comprehensive).\n"
   ]
  },
  {
   "attachments": {},
   "cell_type": "markdown",
   "metadata": {},
   "source": [
    "## 1. Exploração de Dados"
   ]
  },
  {
   "attachments": {},
   "cell_type": "markdown",
   "metadata": {},
   "source": [
    "Carregue o dataset e faça uma visualização das primeiras linhas (identificação básica apenas confirmar se a base foi carregada corretamente).\n"
   ]
  },
  {
   "cell_type": "code",
   "execution_count": 1,
   "metadata": {
    "collapsed": true
   },
   "outputs": [
    {
     "name": "stderr",
     "output_type": "stream",
     "text": [
      "Matplotlib is building the font cache; this may take a moment.\n"
     ]
    }
   ],
   "source": [
    "import seaborn as sns\n",
    "import matplotlib.pyplot as plt\n",
    "import pandas as pd\n",
    "import numpy as np\n",
    "\n",
    "%matplotlib inline"
   ]
  },
  {
   "cell_type": "code",
   "execution_count": 6,
   "metadata": {
    "collapsed": true
   },
   "outputs": [
    {
     "data": {
      "text/html": [
       "<div>\n",
       "<style scoped>\n",
       "    .dataframe tbody tr th:only-of-type {\n",
       "        vertical-align: middle;\n",
       "    }\n",
       "\n",
       "    .dataframe tbody tr th {\n",
       "        vertical-align: top;\n",
       "    }\n",
       "\n",
       "    .dataframe thead th {\n",
       "        text-align: right;\n",
       "    }\n",
       "</style>\n",
       "<table border=\"1\" class=\"dataframe\">\n",
       "  <thead>\n",
       "    <tr style=\"text-align: right;\">\n",
       "      <th></th>\n",
       "      <th>age</th>\n",
       "      <th>sex</th>\n",
       "      <th>chest pain type</th>\n",
       "      <th>resting bp s</th>\n",
       "      <th>cholesterol</th>\n",
       "      <th>fasting blood sugar</th>\n",
       "      <th>resting ecg</th>\n",
       "      <th>max heart rate</th>\n",
       "      <th>exercise angina</th>\n",
       "      <th>oldpeak</th>\n",
       "      <th>ST slope</th>\n",
       "      <th>class</th>\n",
       "    </tr>\n",
       "  </thead>\n",
       "  <tbody>\n",
       "    <tr>\n",
       "      <th>0</th>\n",
       "      <td>40</td>\n",
       "      <td>male</td>\n",
       "      <td>2</td>\n",
       "      <td>140</td>\n",
       "      <td>289</td>\n",
       "      <td>0</td>\n",
       "      <td>0</td>\n",
       "      <td>172</td>\n",
       "      <td>no</td>\n",
       "      <td>0</td>\n",
       "      <td>1</td>\n",
       "      <td>Normal</td>\n",
       "    </tr>\n",
       "    <tr>\n",
       "      <th>1</th>\n",
       "      <td>49</td>\n",
       "      <td>female</td>\n",
       "      <td>3</td>\n",
       "      <td>160</td>\n",
       "      <td>180</td>\n",
       "      <td>0</td>\n",
       "      <td>0</td>\n",
       "      <td>156</td>\n",
       "      <td>no</td>\n",
       "      <td>10</td>\n",
       "      <td>2</td>\n",
       "      <td>heart disease</td>\n",
       "    </tr>\n",
       "    <tr>\n",
       "      <th>2</th>\n",
       "      <td>37</td>\n",
       "      <td>male</td>\n",
       "      <td>2</td>\n",
       "      <td>130</td>\n",
       "      <td>283</td>\n",
       "      <td>0</td>\n",
       "      <td>1</td>\n",
       "      <td>98</td>\n",
       "      <td>no</td>\n",
       "      <td>0</td>\n",
       "      <td>1</td>\n",
       "      <td>Normal</td>\n",
       "    </tr>\n",
       "    <tr>\n",
       "      <th>3</th>\n",
       "      <td>48</td>\n",
       "      <td>female</td>\n",
       "      <td>4</td>\n",
       "      <td>138</td>\n",
       "      <td>214</td>\n",
       "      <td>0</td>\n",
       "      <td>0</td>\n",
       "      <td>108</td>\n",
       "      <td>yes</td>\n",
       "      <td>15</td>\n",
       "      <td>2</td>\n",
       "      <td>heart disease</td>\n",
       "    </tr>\n",
       "    <tr>\n",
       "      <th>4</th>\n",
       "      <td>54</td>\n",
       "      <td>male</td>\n",
       "      <td>3</td>\n",
       "      <td>150</td>\n",
       "      <td>195</td>\n",
       "      <td>0</td>\n",
       "      <td>0</td>\n",
       "      <td>122</td>\n",
       "      <td>no</td>\n",
       "      <td>0</td>\n",
       "      <td>1</td>\n",
       "      <td>Normal</td>\n",
       "    </tr>\n",
       "  </tbody>\n",
       "</table>\n",
       "</div>"
      ],
      "text/plain": [
       "   age     sex  chest pain type  resting bp s  cholesterol  \\\n",
       "0   40    male                2           140          289   \n",
       "1   49  female                3           160          180   \n",
       "2   37    male                2           130          283   \n",
       "3   48  female                4           138          214   \n",
       "4   54    male                3           150          195   \n",
       "\n",
       "   fasting blood sugar  resting ecg  max heart rate exercise angina  oldpeak  \\\n",
       "0                    0            0             172              no        0   \n",
       "1                    0            0             156              no       10   \n",
       "2                    0            1              98              no        0   \n",
       "3                    0            0             108             yes       15   \n",
       "4                    0            0             122              no        0   \n",
       "\n",
       "   ST slope          class  \n",
       "0         1         Normal  \n",
       "1         2  heart disease  \n",
       "2         1         Normal  \n",
       "3         2  heart disease  \n",
       "4         1         Normal  "
      ]
     },
     "execution_count": 6,
     "metadata": {},
     "output_type": "execute_result"
    }
   ],
   "source": [
    "data = pd.read_csv('heart_statlog_cleveland_hungary_final2.csv')\n",
    "data.head(5)\n"
   ]
  },
  {
   "attachments": {},
   "cell_type": "markdown",
   "metadata": {},
   "source": [
    "**Pergunta:** Apresente (Escreva) uma descrição dos atributos (colunas) e seu significado:\n",
    "\n",
    "Exemplo: \n",
    "\n",
    "- id: Representa o fabricante\n",
    "- fuel_type: tipo de combustível (pode ser Gasolina ou Disel)\n",
    "- price: Representa o valor do carro (**Variável Alvo, atributo que será predito pelo modelo de ML**)"
   ]
  },
  {
   "attachments": {},
   "cell_type": "markdown",
   "metadata": {},
   "source": [
    "**Responda**\n",
    "\n",
    "Sua resposta aqui.......\n",
    "\n",
    "*Age: Idade do paciente\n",
    "\n",
    "*Sex: Sexo do paciente\n",
    "\n",
    "*Chest pain type:\n",
    "Tipo de Dor no Peito:\n",
    "Valor 1: angina típica\n",
    "Valor 2: angina atípica\n",
    "Valor 3: dor não anginal\n",
    "Valor 4: assintomática\n",
    "\n",
    "\n",
    "*Resting bp s: \"Resting BP (Pressão Arterial em Repouso)\" Valores normais de pressão arterial em repouso geralmente estão na faixa de 90/60 mmHg a 120/80 mmHg.\n",
    "\n",
    "\n",
    "\n",
    "*Fasting Blood Sugar (Açúcar no Sangue em Jejum): Este atributo indica se o paciente tem níveis elevados de glicose no sangue após um período de jejum. A glicose é uma forma de açúcar que é a principal fonte de energia para as células do corpo. O valor deste atributo é binário, onde:\n",
    "\n",
    "1: Indica que o nível de açúcar no sangue em jejum é maior que 120 mg/dL.\n",
    "0: Indica que o nível de açúcar no sangue em jejum é igual ou inferior a 120 mg/dL.\n",
    "\n",
    "*Resting ecg Resting Electrocardiogram Results (Resultados do Eletrocardiograma em Repouso): Este atributo indica os resultados do eletrocardiograma (ECG) do paciente enquanto ele está em repouso. O ECG é um teste que registra a atividade elétrica do coração ao longo do tempo. O valor deste atributo é nominal e pode assumir os seguintes valores:\n",
    "\n",
    "0: Indica um resultado de ECG normal.\n",
    "1: Indica a presença de anormalidades na onda ST-T, como inversões da onda T e/ou elevação ou depressão do segmento ST maiores que 0.05 mV.\n",
    "2: Indica a presença de provável ou definitiva hipertrofia ventricular esquerda, conforme os critérios de Estes.\n",
    "\n",
    "\n",
    "*Max heart rate\n",
    "Batimento cardiaco maximo\n",
    "\n",
    "*exercise angina: Angina Induzida por Exercício (Exercise Induced Angina): Este atributo indica se o paciente experimenta angina durante o exercício. Angina é uma dor ou desconforto no peito causado pela redução do suprimento sanguíneo para o coração. Se o valor for 1, significa que o paciente apresenta angina durante o exercício; se for 0, significa que não há angina durante o exercício.\n",
    "\n",
    "*oldpeak: Este atributo se refere à depressão do segmento ST induzida pelo exercício em relação ao repouso. A depressão do segmento ST é uma medida importante no Eletrocardiograma (ECG) que pode indicar isquemia miocárdica (redução do fluxo sanguíneo para o músculo cardíaco). Um valor maior de Oldpeak indica uma maior depressão do segmento ST induzida pelo exercício.\n",
    "\n",
    "*ST Slope (A inclinação do segmento ST): Este atributo se refere à forma da curva do segmento ST durante o pico do exercício. A inclinação do segmento ST é um indicador importante de isquemia miocárdica. Os valores possíveis são:\n",
    "\n",
    "Valor 1: ascendente\n",
    "Valor 2: plana\n",
    "Valor 3: descendente\n",
    "\n",
    "*Class: tem doença cardíaca ou normal\n",
    "\n",
    "\n"
   ]
  },
  {
   "attachments": {},
   "cell_type": "markdown",
   "metadata": {},
   "source": [
    "### Análise profunda dos dados\n",
    "\n",
    "Faça uma análise exploratória dos dados. Utilize-se de gráficos e tabelas auxiliares, faça correlações entre os atributos para compreeder a natureza do problema."
   ]
  },
  {
   "cell_type": "code",
   "execution_count": 19,
   "metadata": {
    "collapsed": true
   },
   "outputs": [
    {
     "data": {
      "image/png": "[encoded data removed]",
      "text/plain": [
       "<Figure size 2000x600 with 1 Axes>"
      ]
     },
     "metadata": {},
     "output_type": "display_data"
    }
   ],
   "source": [
    "import matplotlib.pyplot as plt\n",
    "import pandas as pd\n",
    "\n",
    "# Definindo os intervalos de colesterol\n",
    "intervalos_colesterol = pd.cut(data['cholesterol'], bins=range(0, 1000, 100), right=False)\n",
    "\n",
    "# Criando a tabela cruzada com os intervalos de colesterol\n",
    "cross_table = pd.crosstab(data['age'], intervalos_colesterol)\n",
    "ax = cross_table.plot(kind=\"bar\", figsize=(20, 6), color=['#FF0000', '#FFA500'])\n",
    "\n",
    "plt.title('Colesterol por idade', fontsize=40)\n",
    "plt.xlabel('Idade')\n",
    "plt.ylabel('Frequência')\n",
    "\n",
    "plt.show()\n"
   ]
  },
  {
   "attachments": {},
   "cell_type": "markdown",
   "metadata": {},
   "source": [
    "**Perguntas:** \n",
    "\n",
    "1. Qual a relação entre a idade e colesterol?\n",
    "2. O indice açucar no sangue > 120 mg/dl é mais frequênte em homens ou mulheres?\n",
    "3. Qual a distribuição de idade do dataset?\n",
    "4. Pessoas com presença de doença cardiaca são em sua maioria do grupo masculino ou feminino? "
   ]
  },
  {
   "attachments": {},
   "cell_type": "markdown",
   "metadata": {},
   "source": [
    "**Respostas:**\n",
    "\n",
    "\n",
    "Sua resposta aqui.... Lembre-se de relacionar sua resposta com os dados. Elabore análises gráficas para te auxiliar.\n",
    "\n",
    "1.\n",
    "2.\n",
    "3.\n",
    "4.\n"
   ]
  },
  {
   "attachments": {},
   "cell_type": "markdown",
   "metadata": {},
   "source": [
    "## 2. Preparação dos Dados\n",
    "\n",
    "**Lembre-se:** Trate esses dados dentro do contexto do problema. ``Justifique suas escolhas``."
   ]
  },
  {
   "attachments": {},
   "cell_type": "markdown",
   "metadata": {},
   "source": [
    "### Análise de valores inválidos\n",
    "\n",
    "Faça a análise de dados ausente, dados nulos e dados iguais a 0(zero)."
   ]
  },
  {
   "cell_type": "code",
   "execution_count": 5,
   "metadata": {
    "collapsed": true
   },
   "outputs": [],
   "source": [
    "#Seu Código aqui...\n",
    "\n"
   ]
  },
  {
   "attachments": {},
   "cell_type": "markdown",
   "metadata": {},
   "source": [
    "**Pergunta:** Foram localizados dados ausente, dados nulos e dados iguais a 0(zero)? Se existe, como foram tratados (removidos ou mantidos ou substituidos ou ....)? "
   ]
  },
  {
   "attachments": {},
   "cell_type": "markdown",
   "metadata": {},
   "source": [
    "**Resposta:**\n",
    "\n",
    "Sua resposta aqui....."
   ]
  },
  {
   "attachments": {},
   "cell_type": "markdown",
   "metadata": {},
   "source": [
    "### Análise de Outliers\n",
    "\n",
    "Faça a análise de outliers."
   ]
  },
  {
   "cell_type": "code",
   "execution_count": null,
   "metadata": {},
   "outputs": [],
   "source": [
    "#Seu Código aqui..."
   ]
  },
  {
   "attachments": {},
   "cell_type": "markdown",
   "metadata": {},
   "source": [
    "**Pergunta:** Foram localizados outliers? Se existe, como os dados foram tratados (removidos ou mantidos)? "
   ]
  },
  {
   "attachments": {},
   "cell_type": "markdown",
   "metadata": {},
   "source": [
    "**Resposta:**\n",
    "\n",
    "\n",
    "Sua resposta aqui..."
   ]
  },
  {
   "attachments": {},
   "cell_type": "markdown",
   "metadata": {},
   "source": [
    "### Tratamento de dados Paramétricos\n",
    "\n",
    "Faça o tratamento dos atributos categoricos, se existir. Manipule de forma conveniente para ser interpretado como um dado numérico."
   ]
  },
  {
   "cell_type": "code",
   "execution_count": 9,
   "metadata": {
    "collapsed": true
   },
   "outputs": [],
   "source": [
    "#Seu Código aqui...\n"
   ]
  },
  {
   "attachments": {},
   "cell_type": "markdown",
   "metadata": {},
   "source": [
    "**Pergunta:** Quais são os atributos categoricos? Qual foi a técnica de preprocessamento utilizada? "
   ]
  },
  {
   "attachments": {},
   "cell_type": "markdown",
   "metadata": {},
   "source": [
    "**Resposta:**\n",
    "\n",
    "Sua resposta aqui....."
   ]
  },
  {
   "attachments": {},
   "cell_type": "markdown",
   "metadata": {},
   "source": [
    "### Normalização dos dados\n",
    "\n",
    "Faça a manipulação adequada para normalizar os dados, se necessário."
   ]
  },
  {
   "cell_type": "code",
   "execution_count": null,
   "metadata": {
    "collapsed": true
   },
   "outputs": [],
   "source": [
    "#Seu Código aqui...\n"
   ]
  },
  {
   "attachments": {},
   "cell_type": "markdown",
   "metadata": {},
   "source": [
    "**Pergunta:** Os dados foram normalizados? Qual foi a técnica de preprocessamento utilizada? "
   ]
  },
  {
   "attachments": {},
   "cell_type": "markdown",
   "metadata": {},
   "source": [
    "**Resposta:**\n",
    "\n",
    "Sua resposta aqui....."
   ]
  },
  {
   "attachments": {},
   "cell_type": "markdown",
   "metadata": {},
   "source": [
    "## 3. Desenvolvimento do Modelo"
   ]
  },
  {
   "attachments": {},
   "cell_type": "markdown",
   "metadata": {},
   "source": [
    "**Pergunta:** O conjunto de dados indica a aplicação de qual modelo de aprendizagem de maquina? "
   ]
  },
  {
   "attachments": {},
   "cell_type": "markdown",
   "metadata": {},
   "source": [
    "**Resposta:**\n",
    "\n",
    "    [ ] Aprendizado por reforço\n",
    "    [ ] Aprendizado supervisionado\n",
    "    [ ] Aprendizado não supervisionado"
   ]
  },
  {
   "attachments": {},
   "cell_type": "markdown",
   "metadata": {},
   "source": [
    "**Pergunta:** Qual a técnica sugerida para este projeto?"
   ]
  },
  {
   "attachments": {},
   "cell_type": "markdown",
   "metadata": {},
   "source": [
    "**Resposta:**\n",
    "\n",
    "    [ ] Regressão\n",
    "    [ ] Classificação\n",
    "    [ ] Clusterização"
   ]
  },
  {
   "attachments": {},
   "cell_type": "markdown",
   "metadata": {},
   "source": [
    "**Pergunta:** Escolha 3 modelos de algoritmos de ML para ser testado."
   ]
  },
  {
   "attachments": {},
   "cell_type": "markdown",
   "metadata": {},
   "source": [
    "**Resposta:**\n",
    "\n",
    "1. algoritimo ...___________ \n",
    "2. algoritimo ...___________\n",
    "3. algoritimo ...___________\n"
   ]
  },
  {
   "attachments": {},
   "cell_type": "markdown",
   "metadata": {},
   "source": [
    "**Pergunta:** Explique como cada algoritmo funciona.\n",
    "\n"
   ]
  },
  {
   "attachments": {},
   "cell_type": "markdown",
   "metadata": {},
   "source": [
    "**Resposta:**\n",
    "\n",
    "1. algoritimo ...___________ \n",
    "2. algoritimo ...___________\n",
    "3. algoritimo ...___________"
   ]
  },
  {
   "attachments": {},
   "cell_type": "markdown",
   "metadata": {},
   "source": [
    "### Dataset dos dados tratados \n",
    "\n",
    "Crie um subset dos dados apenas com os atributos que serão utilizados e exiba as primeiras linhas."
   ]
  },
  {
   "cell_type": "code",
   "execution_count": 2,
   "metadata": {
    "collapsed": true
   },
   "outputs": [],
   "source": [
    "#Seu Código aqui...\n",
    "\n"
   ]
  },
  {
   "attachments": {},
   "cell_type": "markdown",
   "metadata": {},
   "source": [
    "### Definição de X e Y\n",
    "\n",
    "Separe os subsets dos atributos em Y e X :\n",
    "\n",
    "- Y = atributo dependente (alvo)\n",
    "- X = Atributo independente (entradas)"
   ]
  },
  {
   "cell_type": "code",
   "execution_count": null,
   "metadata": {
    "collapsed": true
   },
   "outputs": [],
   "source": [
    "#Seu Código aqui...\n",
    "\n",
    "x = class\n",
    "y= (todos-invalidos)"
   ]
  },
  {
   "attachments": {},
   "cell_type": "markdown",
   "metadata": {},
   "source": [
    "### Divisão em treino e teste.\n",
    "\n",
    "Faça o split do dados para treinamento e teste"
   ]
  },
  {
   "cell_type": "code",
   "execution_count": 2,
   "metadata": {
    "collapsed": true
   },
   "outputs": [],
   "source": [
    "#Seu Código aqui...\n",
    "\n"
   ]
  },
  {
   "attachments": {},
   "cell_type": "markdown",
   "metadata": {},
   "source": [
    "## 4. Treinamento e teste do modelo\n",
    "\n",
    "Defina a métrica de performance para avaliação dos modelos de ML"
   ]
  },
  {
   "attachments": {},
   "cell_type": "markdown",
   "metadata": {},
   "source": [
    "**Resposta:**\n",
    "\n",
    "\n",
    "Sua resposta aqui......."
   ]
  },
  {
   "attachments": {},
   "cell_type": "markdown",
   "metadata": {},
   "source": [
    "### Treinamento e teste\n",
    "\n",
    "Faça o treinamento e teste de dos 3 algoritmos escolhidos, aplique no treinamento a validação cruzada para um kfold de 5."
   ]
  },
  {
   "attachments": {},
   "cell_type": "markdown",
   "metadata": {},
   "source": [
    "### Algoritmo 1"
   ]
  },
  {
   "cell_type": "code",
   "execution_count": 18,
   "metadata": {
    "collapsed": true
   },
   "outputs": [],
   "source": [
    "#Seu Código aqui...\n",
    "\n",
    "\n"
   ]
  },
  {
   "attachments": {},
   "cell_type": "markdown",
   "metadata": {},
   "source": [
    "### Algoritmo 2"
   ]
  },
  {
   "cell_type": "code",
   "execution_count": 10,
   "metadata": {
    "collapsed": true
   },
   "outputs": [],
   "source": [
    "#Seu Código aqui...\n",
    "\n"
   ]
  },
  {
   "attachments": {},
   "cell_type": "markdown",
   "metadata": {},
   "source": [
    "### Algoritmo 3"
   ]
  },
  {
   "cell_type": "code",
   "execution_count": 17,
   "metadata": {
    "collapsed": true
   },
   "outputs": [],
   "source": [
    "#Seu Código aqui...\n"
   ]
  },
  {
   "attachments": {},
   "cell_type": "markdown",
   "metadata": {},
   "source": [
    "Sumarize na tabela abaixo os resultados obtidos dos modelos de ML para o conjuntos de dados de treino e de testes"
   ]
  },
  {
   "attachments": {},
   "cell_type": "markdown",
   "metadata": {},
   "source": [
    "**Resposta:**\n",
    "\n",
    "|                     | algoritmo1 | algoritmo2 | algoritmo3 |\n",
    "|:---------------------|:------------------:|:-----------------------------:|:-----------------:|\n",
    "| treino |      sua_resposta           |      sua_resposta                       |   sua_resposta              |\n",
    "| teste  |      sua_resposta            |      sua_resposta                       |   sua_resposta              |\n"
   ]
  },
  {
   "attachments": {},
   "cell_type": "markdown",
   "metadata": {},
   "source": [
    "**Pergunta:** Qual foi a performance de cada algoritmo? Explique os resultados e detalhe como a característica de cada algoritmo influenciou no resultado.\n",
    "\n",
    "**Resposta:**"
   ]
  },
  {
   "attachments": {},
   "cell_type": "markdown",
   "metadata": {},
   "source": [
    "## 5. Validação e Otimização do Modelo\n",
    "\n",
    "Faça a otimização dos modelos, tunning dos hiperparametros, utilize uma das técinicas: **RandomSearchCV** ou **GridSearchCV**.\n",
    "\n",
    "\n",
    "Após a otimização dos parametros, treine novamente os 3 algoritmos de ML  utilizando os parametos de otimização e compares seus resultados.\n"
   ]
  },
  {
   "attachments": {},
   "cell_type": "markdown",
   "metadata": {},
   "source": [
    "**Pergunta:** Qual a técnica escolhida? Por que?\n",
    "\n",
    "**Resposta:**"
   ]
  },
  {
   "attachments": {},
   "cell_type": "markdown",
   "metadata": {},
   "source": [
    "### Algoritmo 1"
   ]
  },
  {
   "cell_type": "code",
   "execution_count": 18,
   "metadata": {
    "collapsed": true
   },
   "outputs": [],
   "source": [
    "#Seu Código aqui...\n",
    "\n",
    "\n"
   ]
  },
  {
   "attachments": {},
   "cell_type": "markdown",
   "metadata": {},
   "source": [
    "### Algoritmo 2"
   ]
  },
  {
   "cell_type": "code",
   "execution_count": 10,
   "metadata": {
    "collapsed": true
   },
   "outputs": [],
   "source": [
    "#Seu Código aqui...\n",
    "\n"
   ]
  },
  {
   "attachments": {},
   "cell_type": "markdown",
   "metadata": {},
   "source": [
    "### Algoritmo 3"
   ]
  },
  {
   "cell_type": "code",
   "execution_count": 17,
   "metadata": {
    "collapsed": true
   },
   "outputs": [],
   "source": [
    "#Seu Código aqui...\n"
   ]
  },
  {
   "attachments": {},
   "cell_type": "markdown",
   "metadata": {},
   "source": [
    "Sumarize na tabela abaixo os resultados obtidos dos modelos de ML para o conjuntos de dados de treino e de testes"
   ]
  },
  {
   "attachments": {},
   "cell_type": "markdown",
   "metadata": {},
   "source": [
    "**Resposta:**\n",
    "\n",
    "|                     | algoritmo1 | algoritmo2 | algoritmo3 |\n",
    "|:---------------------|:------------------:|:-----------------------------:|:-----------------:|\n",
    "| treino |      sua_resposta           |      sua_resposta                       |   sua_resposta              |\n",
    "| teste  |      sua_resposta            |      sua_resposta                       |   sua_resposta              |\n"
   ]
  },
  {
   "attachments": {},
   "cell_type": "markdown",
   "metadata": {},
   "source": [
    "**Pergunta:** Qual dos algoritmos obteve os melhores resultados? Quais caracaterísticas deste algoritmo podem ajudar a justificar tal resultado?\n",
    "\n",
    "**Resposta:**"
   ]
  },
  {
   "attachments": {},
   "cell_type": "markdown",
   "metadata": {},
   "source": [
    "## Salvando o modelo desenvolvido\n",
    "\n",
    "Configure o modelo selecionado com os parâmetros otimizados obtidos anteriormente e salve\n",
    "\n",
    "```python\n",
    "# exemplo de como salvar o modelo \"model\" no arquivo \"modelsave.pkl\"\n",
    "\n",
    "# import lib\n",
    "import pickle\n",
    "\n",
    "# salvar\n",
    "with open('modelsave.pkl', 'wb') as file:\n",
    "    pickle.dump(model, file)\n",
    "\n",
    "```"
   ]
  },
  {
   "cell_type": "code",
   "execution_count": 26,
   "metadata": {
    "collapsed": true
   },
   "outputs": [],
   "source": [
    "#Seu Código aqui...\n",
    "\n"
   ]
  },
  {
   "attachments": {},
   "cell_type": "markdown",
   "metadata": {},
   "source": [
    "## 6. Conclusões finais\n",
    "\n",
    "Ufa!!... Chegamos ao final deste projeto. Parabéns! De forma simplificada e completa passamos por todas as etapas de aprendizado de maquina. Outras etapas podem ser adicionadas no tratamento dos dados e desenvolvimento do modelo."
   ]
  },
  {
   "attachments": {},
   "cell_type": "markdown",
   "metadata": {},
   "source": [
    "**Pergunta:**: O modelo desenvolvido obteve um resultado satisfatório? Justifique:\n",
    "\n",
    "**Resposta**:"
   ]
  },
  {
   "attachments": {},
   "cell_type": "markdown",
   "metadata": {
    "collapsed": true
   },
   "source": [
    "**Pergunta:**: O que faria diferente para melhorar resultado obtido? Justifique:\n",
    "\n",
    "**Resposta**:"
   ]
  },
  {
   "attachments": {},
   "cell_type": "markdown",
   "metadata": {},
   "source": [
    "**Pergunta:**: As etapas de desenvolvimento se aplicam para um problema de classificação? Justifique:\n",
    "\n",
    "**Resposta**:"
   ]
  }
 ],
 "metadata": {
  "kernelspec": {
   "display_name": "Python 3.9.5 64-bit",
   "language": "python",
   "name": "python3"
  },
  "language_info": {
   "codemirror_mode": {
    "name": "ipython",
    "version": 3
   },
   "file_extension": ".py",
   "mimetype": "text/x-python",
   "name": "python",
   "nbconvert_exporter": "python",
   "pygments_lexer": "ipython3",
   "version": "3.8.2"
  },
  "vscode": {
   "interpreter": {
    "hash": "8d68938bd6f1c8d824a292cb48fdc812f23ce0d2e12c844cec6ac89d2f668725"
   }
  }
 },
 "nbformat": 4,
 "nbformat_minor": 2
}
